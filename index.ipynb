{
 "cells": [
  {
   "cell_type": "markdown",
   "metadata": {},
   "source": [
    "# Website A/B Testing - Lab\n",
    "\n",
    "## Introduction\n",
    "\n",
    "In this lab, you'll get another chance to practice your skills at conducting a full A/B test analysis. It will also be a chance to practice your data exploration and processing skills! The scenario you'll be investigating is data collected from the homepage of a music app page for audacity.\n",
    "\n",
    "## Objectives\n",
    "\n",
    "You will be able to:\n",
    "* Analyze the data from a website A/B test to draw relevant conclusions\n",
    "* Explore and analyze web action data"
   ]
  },
  {
   "cell_type": "markdown",
   "metadata": {},
   "source": [
    "## Exploratory Analysis\n",
    "\n",
    "Start by loading in the dataset stored in the file 'homepage_actions.csv'. Then conduct an exploratory analysis to get familiar with the data."
   ]
  },
  {
   "cell_type": "markdown",
   "metadata": {},
   "source": [
    "> Hints:\n",
    "    * Start investigating the id column:\n",
    "        * How many viewers also clicked?\n",
    "        * Are there any anomalies with the data; did anyone click who didn't view?\n",
    "        * Is there any overlap between the control and experiment groups? \n",
    "            * If so, how do you plan to account for this in your experimental design?"
   ]
  },
  {
   "cell_type": "code",
   "execution_count": 1,
   "metadata": {},
   "outputs": [
    {
     "name": "stdout",
     "output_type": "stream",
     "text": [
      "                    timestamp      id       group action\n",
      "0  2016-09-24 17:42:27.839496  804196  experiment   view\n",
      "1  2016-09-24 19:19:03.542569  434745  experiment   view\n",
      "2  2016-09-24 19:36:00.944135  507599  experiment   view\n",
      "3  2016-09-24 19:59:02.646620  671993     control   view\n",
      "4  2016-09-24 20:26:14.466886  536734  experiment   view\n",
      "Number of viewers: 6328\n",
      "Number of clickers: 1860\n",
      "Number of users in control group: 3332\n",
      "Number of users in experiment group: 2996\n",
      "Number of overlapping users: 0\n"
     ]
    }
   ],
   "source": [
    "#Your code here\n",
    "import pandas as pd\n",
    "\n",
    "# Load the dataset\n",
    "data = pd.read_csv('homepage_actions.csv')\n",
    "\n",
    "# Overview of the dataset\n",
    "print(data.head())\n",
    "\n",
    "# Count the number of viewers and clickers\n",
    "viewers = data[data['action'] == 'view']['id'].nunique()\n",
    "clickers = data[data['action'] == 'click']['id'].nunique()\n",
    "\n",
    "print(f\"Number of viewers: {viewers}\")\n",
    "print(f\"Number of clickers: {clickers}\")\n",
    "\n",
    "# Check for anomalies: Anyone clicked without viewing?\n",
    "clicked_without_viewing = data[(data['action'] == 'click') & ~(data['id'].isin(data[data['action'] == 'view']['id']))]\n",
    "if not clicked_without_viewing.empty:\n",
    "    print(\"Anomalies: Some users clicked without viewing.\")\n",
    "    print(clicked_without_viewing)\n",
    "\n",
    "# Check for overlap between control and experiment groups\n",
    "control_users = data[data['group'] == 'control']['id'].unique()\n",
    "experiment_users = data[data['group'] == 'experiment']['id'].unique()\n",
    "overlap = set(control_users).intersection(experiment_users)\n",
    "\n",
    "print(f\"Number of users in control group: {len(control_users)}\")\n",
    "print(f\"Number of users in experiment group: {len(experiment_users)}\")\n",
    "print(f\"Number of overlapping users: {len(overlap)}\")"
   ]
  },
  {
   "cell_type": "markdown",
   "metadata": {},
   "source": [
    "## Conduct a Statistical Test\n",
    "\n",
    "Conduct a statistical test to determine whether the experimental homepage was more effective than that of the control group."
   ]
  },
  {
   "cell_type": "code",
   "execution_count": 4,
   "metadata": {},
   "outputs": [
    {
     "name": "stdout",
     "output_type": "stream",
     "text": [
      "Reject the null hypothesis: The experimental homepage is more effective.\n"
     ]
    }
   ],
   "source": [
    "#Your code here\n",
    "import statsmodels.api as sm\n",
    "import statsmodels.stats.proportion as proportion\n",
    "\n",
    "# Calculate the number of clicks and total users in the control and experiment groups\n",
    "control_clicks = data[(data['group'] == 'control') & (data['action'] == 'click')]['id'].nunique()\n",
    "experiment_clicks = data[(data['group'] == 'experiment') & (data['action'] == 'click')]['id'].nunique()\n",
    "\n",
    "control_users = data[data['group'] == 'control']['id'].nunique()\n",
    "experiment_users = data[data['group'] == 'experiment']['id'].nunique()\n",
    "\n",
    "# Calculate click-through rates (CTR) for both groups\n",
    "control_ctr = control_clicks / control_users\n",
    "experiment_ctr = experiment_clicks / experiment_users\n",
    "\n",
    "# Perform a two-sample proportion z-test\n",
    "z_score, p_value = proportion.proportions_ztest([control_clicks, experiment_clicks], [control_users, experiment_users])\n",
    "\n",
    "# Set the significance level (alpha)\n",
    "alpha = 0.05\n",
    "\n",
    "# Check if the p-value is less than alpha to determine statistical significance\n",
    "if p_value < alpha:\n",
    "    print(\"Reject the null hypothesis: The experimental homepage is more effective.\")\n",
    "else:\n",
    "    print(\"Fail to reject the null hypothesis: No significant difference.\")"
   ]
  },
  {
   "cell_type": "markdown",
   "metadata": {},
   "source": [
    "## Verifying Results\n",
    "\n",
    "One sensible formulation of the data to answer the hypothesis test above would be to create a binary variable representing each individual in the experiment and control group. This binary variable would represent whether or not that individual clicked on the homepage; 1 for they did and 0 if they did not. \n",
    "\n",
    "The variance for the number of successes in a sample of a binomial variable with n observations is given by:\n",
    "\n",
    "## $n\\bullet p (1-p)$\n",
    "\n",
    "Given this, perform 3 steps to verify the results of your statistical test:\n",
    "1. Calculate the expected number of clicks for the experiment group, if it had the same click-through rate as that of the control group. \n",
    "2. Calculate the number of standard deviations that the actual number of clicks was from this estimate. \n",
    "3. Finally, calculate a p-value using the normal distribution based on this z-score."
   ]
  },
  {
   "cell_type": "markdown",
   "metadata": {},
   "source": [
    "### Step 1:\n",
    "Calculate the expected number of clicks for the experiment group, if it had the same click-through rate as that of the control group. "
   ]
  },
  {
   "cell_type": "code",
   "execution_count": 6,
   "metadata": {},
   "outputs": [
    {
     "data": {
      "text/plain": [
       "838.0168067226891"
      ]
     },
     "execution_count": 6,
     "metadata": {},
     "output_type": "execute_result"
    }
   ],
   "source": [
    "#Your code here\n",
    "expected_clicks_experiment = control_ctr * experiment_users\n",
    "expected_clicks_experiment"
   ]
  },
  {
   "cell_type": "markdown",
   "metadata": {},
   "source": [
    "### Step 2:\n",
    "Calculate the number of standard deviations that the actual number of clicks was from this estimate."
   ]
  },
  {
   "cell_type": "code",
   "execution_count": 7,
   "metadata": {},
   "outputs": [],
   "source": [
    "#Your code here\n",
    "# Calculate the standard error for the binomial distribution\n",
    "standard_error = (control_ctr * (1 - control_ctr) / control_users) ** 0.5\n",
    "\n",
    "# Calculate the z-score\n",
    "z_score = (experiment_clicks - expected_clicks_experiment) / standard_error"
   ]
  },
  {
   "cell_type": "markdown",
   "metadata": {},
   "source": [
    "### Step 3: \n",
    "Finally, calculate a p-value using the normal distribution based on this z-score."
   ]
  },
  {
   "cell_type": "code",
   "execution_count": 8,
   "metadata": {},
   "outputs": [],
   "source": [
    "#Your code here\n",
    "p_value = 2 * (1 - stats.norm.cdf(abs(z_score)))"
   ]
  },
  {
   "cell_type": "markdown",
   "metadata": {},
   "source": [
    "### Analysis:\n",
    "\n",
    "Does this result roughly match that of the previous statistical test?\n",
    "\n",
    "> Comment: **Your analysis here**"
   ]
  },
  {
   "cell_type": "markdown",
   "metadata": {},
   "source": [
    "## Summary\n",
    "\n",
    "In this lab, you continued to get more practice designing and conducting AB tests. This required additional work preprocessing and formulating the initial problem in a suitable manner. Additionally, you also saw how to verify results, strengthening your knowledge of binomial variables, and reviewing initial statistical concepts of the central limit theorem, standard deviation, z-scores, and their accompanying p-values."
   ]
  }
 ],
 "metadata": {
  "kernelspec": {
   "display_name": "Python 3",
   "language": "python",
   "name": "python3"
  },
  "language_info": {
   "codemirror_mode": {
    "name": "ipython",
    "version": 3
   },
   "file_extension": ".py",
   "mimetype": "text/x-python",
   "name": "python",
   "nbconvert_exporter": "python",
   "pygments_lexer": "ipython3",
   "version": "3.8.5"
  }
 },
 "nbformat": 4,
 "nbformat_minor": 2
}
